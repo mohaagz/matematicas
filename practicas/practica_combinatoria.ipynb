{
  "nbformat": 4,
  "nbformat_minor": 0,
  "metadata": {
    "colab": {
      "provenance": [],
      "include_colab_link": true
    },
    "kernelspec": {
      "name": "python3",
      "display_name": "Python 3"
    },
    "language_info": {
      "name": "python"
    }
  },
  "cells": [
    {
      "cell_type": "markdown",
      "metadata": {
        "id": "view-in-github",
        "colab_type": "text"
      },
      "source": [
        "<a href=\"https://colab.research.google.com/github/mohaagz/matematicas/blob/main/practicas/practica_combinatoria.ipynb\" target=\"_parent\"><img src=\"https://colab.research.google.com/assets/colab-badge.svg\" alt=\"Open In Colab\"/></a>"
      ]
    },
    {
      "cell_type": "markdown",
      "source": [
        "# Práctica 1. Combinatoria\n",
        "Resuelva los siguientes apartados de la práctica.  \n",
        "La práctica 1.1 se proporciona solucionada para que pueda servir como ejemplo.\n"
      ],
      "metadata": {
        "id": "VP-PLgSCPtPC"
      }
    },
    {
      "cell_type": "markdown",
      "source": [
        "## Práctica 1.1\n",
        "Cuatro amigos:\n",
        "* Antonio (A)\n",
        "* Begoña (B)\n",
        "* Cesar (C)\n",
        "* Diana (D)\n",
        "\n",
        "constituyen una asociación y tienen que asignar los siguientes cargos:\n",
        "* Presiente (1)\n",
        "* Vicepresidente (2)\n",
        "* Secretario (3)\n",
        "* Tesorero (4)\n",
        "\n",
        "Se pide:\n",
        "1. Escribiendo la solución en una celda de Markdown analice el caso indicando si se trata de variaciones, permutaciones o combinaciones, con o sin repetición o el caso que sea, y el motivo para clasificar el caso de esta forma.\n",
        "2. Utilizando fórmulas de $\\LaTeX$ calcule cuántos casos existen.\n",
        "3. Cree un programa en Python para calcule cuántos casos existen.\n",
        "4. Cree un programa en Python para imprimir todas las posibilidades y numérelas. Por ejemplo:\n",
        "    - 1 ABCD\n",
        "    - 2 ABDC\n",
        "    - 3 ACBD\n",
        "    - &#20; &#20; &#20; ... ... ..."
      ],
      "metadata": {
        "id": "6oyoxqfbQJDC"
      }
    },
    {
      "cell_type": "markdown",
      "source": [
        "### Solución 1.1\n",
        "* Estamos ante un caso de **permutaciones sin repetición** ya que:\n",
        " - El orden importa, no es lo mismo estar el nº1 que significa ser presidente que el nº 4 que corresponde al tesorero.\n",
        " - Intervienen todos. Son 4 amigos para 4 cargos, todos tienen cargo, lo que cambiar es el orden, esto es, el cargo que obtengan.\n",
        " - No se repiten elementos. Una persona no puede tener dos cargos simultaneamente.\n",
        "* Los casos que se obtienen con las permutaciones sin repetición son $P_{n}=n!$ que para este ejemplo son:\n",
        "\n",
        "$$P_{4}=4!=4 \\cdot 3 \\cdot 2 \\cdot 1 = 24$$"
      ],
      "metadata": {
        "id": "t5unIqR7jdZR"
      }
    },
    {
      "cell_type": "code",
      "source": [
        "import math\n",
        "p = math.factorial(4)\n",
        "print(\"Los casos son: \", p)\n",
        "print(\"Comprobación:  \", 4*3*2*1)"
      ],
      "metadata": {
        "id": "va3_l_-hmFS-"
      },
      "execution_count": null,
      "outputs": []
    },
    {
      "cell_type": "markdown",
      "source": [
        "#### Método 1\n",
        "Sin usar librería."
      ],
      "metadata": {
        "id": "kOM3pEAGnh8v"
      }
    },
    {
      "cell_type": "code",
      "source": [
        "lista = ['A', 'B', 'C', 'D']\n",
        "contador = 1\n",
        "\n",
        "for i in lista:\n",
        "    for j in lista:\n",
        "        for k in lista:\n",
        "            for l in lista:\n",
        "                if i != j and i != k and i != l and j != k and j != l and k != l:\n",
        "                    print(f\"{contador:2d} →  {i+j+k+l}\")\n",
        "                    contador += 1"
      ],
      "metadata": {
        "id": "5--ZpSoJncj3"
      },
      "execution_count": null,
      "outputs": []
    },
    {
      "cell_type": "markdown",
      "source": [
        "#### Método 2\n",
        "* Usamos la función `permutations` de la librería `itertools`.\n",
        "* Imprimimos todas las permutaciones de los elementos de una lista."
      ],
      "metadata": {
        "id": "2PoCD5GlnwS1"
      }
    },
    {
      "cell_type": "code",
      "source": [
        "from itertools import permutations\n",
        "\n",
        "perm = permutations(['A','B','C','D'])   # obtenemos todas las permutaciones de la lista \n",
        "\n",
        "for i in list(perm):                     # imprimimos todas las permutaciones \n",
        "    print (*i)                           # con el asterisco se muestran las listas sin corchetes ni comas"
      ],
      "metadata": {
        "id": "eKkB1gQnn6_P"
      },
      "execution_count": null,
      "outputs": []
    },
    {
      "cell_type": "markdown",
      "source": [
        "## Práctica 1.2\n",
        "Cuatro amigos:\n",
        "* Antonio (A)\n",
        "* Begoña (B)\n",
        "* Cesar (C)\n",
        "* Diana (D)\n",
        "\n",
        "constituyen una asociación y tienen que asignar los siguientes cargos:\n",
        "* Presiente (1)\n",
        "* Secretario (3)\n",
        "* Tesorero (4)\n",
        "\n",
        "Se pide:\n",
        "1. Escribiendo la solución en una celda de Markdown analice el caso indicando si se trata de variaciones, permutaciones o combinaciones, con o sin repetición o el caso que sea, y el motivo para clasificar el caso de esta forma.\n",
        "2. Utilizando fórmulas de $\\LaTeX$ calcule cuántos casos existen.\n",
        "3. Cree un programa en Python para calcule cuántos casos existen.\n",
        "4. Cree un programa en Python para imprimir todas las posibilidades y numérelas. Por ejemplo:\n",
        "    - 1 ABC\n",
        "    - 2 ABD\n",
        "    - 3 ACB\n",
        "    - &#20; &#20; &#20; ... ... ..."
      ],
      "metadata": {
        "id": "sxSuCpAFSBPJ"
      }
    },
    {
      "cell_type": "markdown",
      "source": [
        "### Solución 1.2"
      ],
      "metadata": {
        "id": "xx9qsw_ej9Pd"
      }
    },
    {
      "cell_type": "markdown",
      "source": [
        "Estamos ante una variación con repetición ya que:\n",
        "\n",
        "El orden importa; no es lo mismo ser presidente (nº1), que secretario (nº2), que tesorero (nº3). \n",
        "Es la disposición de una parte del total de elementos en un orden determinado.\n",
        "\n",
        "\n",
        "\n",
        "\n",
        "\n"
      ],
      "metadata": {
        "id": "ysOX4Xeh7lvF"
      }
    },
    {
      "cell_type": "code",
      "source": [
        "lista = ['A', 'B', 'C', 'D'] \n",
        "contador = 1\n",
        "enumerate(lista)\n",
        "for i in lista:\n",
        "    for j in lista:\n",
        "        for k in lista:\n",
        "            for l in lista:\n",
        "                if i != j and i != k and i != l and j != k and j != l and k != l:\n",
        "                    print(f\"{contador:2d} →  {i+j+k+l}\")\n",
        "                    contador += 1"
      ],
      "metadata": {
        "colab": {
          "base_uri": "https://localhost:8080/"
        },
        "id": "1Rdn3BqKwo47",
        "outputId": "0cdc6773-97a2-49d9-be57-147fdd235a01"
      },
      "execution_count": 6,
      "outputs": [
        {
          "output_type": "stream",
          "name": "stdout",
          "text": [
            " 1 →  ABCD\n",
            " 2 →  ABDC\n",
            " 3 →  ACBD\n",
            " 4 →  ACDB\n",
            " 5 →  ADBC\n",
            " 6 →  ADCB\n",
            " 7 →  BACD\n",
            " 8 →  BADC\n",
            " 9 →  BCAD\n",
            "10 →  BCDA\n",
            "11 →  BDAC\n",
            "12 →  BDCA\n",
            "13 →  CABD\n",
            "14 →  CADB\n",
            "15 →  CBAD\n",
            "16 →  CBDA\n",
            "17 →  CDAB\n",
            "18 →  CDBA\n",
            "19 →  DABC\n",
            "20 →  DACB\n",
            "21 →  DBAC\n",
            "22 →  DBCA\n",
            "23 →  DCAB\n",
            "24 →  DCBA\n"
          ]
        }
      ]
    },
    {
      "cell_type": "markdown",
      "source": [
        "## Práctica 1.3\n",
        "Invente un caso de **variaciones sin repetición**.\n",
        "Se pide contestar a los mismos puntos que el caso anterior.\n"
      ],
      "metadata": {
        "id": "D0S1DjF4MKmz"
      }
    },
    {
      "cell_type": "markdown",
      "source": [
        "### Solución 1.3"
      ],
      "metadata": {
        "id": "AfyuPIASj_20"
      }
    },
    {
      "cell_type": "markdown",
      "source": [
        "¿Cuántos números de cuatro cifras (todas distintas) se pueden formar con los números 1, 2, 3, 4, 5?\n",
        "\n",
        "Estamos ante un caso de variaciones sin repetición ya que:\n",
        "No intervienen todos los elementos. Solo tomaremos cuatro de las cinco númerospara realizar las combinaciones.\n",
        "El orden importa ya que no es lo mismo 1234 que 4321.\n",
        "Son sin repetición ya que si un número es utilizado,es descartado. Esto es porque todas las cifras deben ser distintas."
      ],
      "metadata": {
        "id": "25rLrAWyxlDM"
      }
    },
    {
      "cell_type": "code",
      "source": [
        "import itertools\n",
        "it = itertools.permutations(['1','2','3','4','5'],4)\n",
        "li = list(it)\n",
        "\n",
        "print()\n",
        "\n",
        "for i in range(len(li)):\n",
        "    print(f\"Variación {i+1:2d}: \", *li[i])"
      ],
      "metadata": {
        "colab": {
          "base_uri": "https://localhost:8080/"
        },
        "id": "7hhosMv-x43x",
        "outputId": "b5621a7b-818f-4f44-d67b-fb3e61d1739a"
      },
      "execution_count": 7,
      "outputs": [
        {
          "output_type": "stream",
          "name": "stdout",
          "text": [
            "\n",
            "Variación  1:  1 2 3 4\n",
            "Variación  2:  1 2 3 5\n",
            "Variación  3:  1 2 4 3\n",
            "Variación  4:  1 2 4 5\n",
            "Variación  5:  1 2 5 3\n",
            "Variación  6:  1 2 5 4\n",
            "Variación  7:  1 3 2 4\n",
            "Variación  8:  1 3 2 5\n",
            "Variación  9:  1 3 4 2\n",
            "Variación 10:  1 3 4 5\n",
            "Variación 11:  1 3 5 2\n",
            "Variación 12:  1 3 5 4\n",
            "Variación 13:  1 4 2 3\n",
            "Variación 14:  1 4 2 5\n",
            "Variación 15:  1 4 3 2\n",
            "Variación 16:  1 4 3 5\n",
            "Variación 17:  1 4 5 2\n",
            "Variación 18:  1 4 5 3\n",
            "Variación 19:  1 5 2 3\n",
            "Variación 20:  1 5 2 4\n",
            "Variación 21:  1 5 3 2\n",
            "Variación 22:  1 5 3 4\n",
            "Variación 23:  1 5 4 2\n",
            "Variación 24:  1 5 4 3\n",
            "Variación 25:  2 1 3 4\n",
            "Variación 26:  2 1 3 5\n",
            "Variación 27:  2 1 4 3\n",
            "Variación 28:  2 1 4 5\n",
            "Variación 29:  2 1 5 3\n",
            "Variación 30:  2 1 5 4\n",
            "Variación 31:  2 3 1 4\n",
            "Variación 32:  2 3 1 5\n",
            "Variación 33:  2 3 4 1\n",
            "Variación 34:  2 3 4 5\n",
            "Variación 35:  2 3 5 1\n",
            "Variación 36:  2 3 5 4\n",
            "Variación 37:  2 4 1 3\n",
            "Variación 38:  2 4 1 5\n",
            "Variación 39:  2 4 3 1\n",
            "Variación 40:  2 4 3 5\n",
            "Variación 41:  2 4 5 1\n",
            "Variación 42:  2 4 5 3\n",
            "Variación 43:  2 5 1 3\n",
            "Variación 44:  2 5 1 4\n",
            "Variación 45:  2 5 3 1\n",
            "Variación 46:  2 5 3 4\n",
            "Variación 47:  2 5 4 1\n",
            "Variación 48:  2 5 4 3\n",
            "Variación 49:  3 1 2 4\n",
            "Variación 50:  3 1 2 5\n",
            "Variación 51:  3 1 4 2\n",
            "Variación 52:  3 1 4 5\n",
            "Variación 53:  3 1 5 2\n",
            "Variación 54:  3 1 5 4\n",
            "Variación 55:  3 2 1 4\n",
            "Variación 56:  3 2 1 5\n",
            "Variación 57:  3 2 4 1\n",
            "Variación 58:  3 2 4 5\n",
            "Variación 59:  3 2 5 1\n",
            "Variación 60:  3 2 5 4\n",
            "Variación 61:  3 4 1 2\n",
            "Variación 62:  3 4 1 5\n",
            "Variación 63:  3 4 2 1\n",
            "Variación 64:  3 4 2 5\n",
            "Variación 65:  3 4 5 1\n",
            "Variación 66:  3 4 5 2\n",
            "Variación 67:  3 5 1 2\n",
            "Variación 68:  3 5 1 4\n",
            "Variación 69:  3 5 2 1\n",
            "Variación 70:  3 5 2 4\n",
            "Variación 71:  3 5 4 1\n",
            "Variación 72:  3 5 4 2\n",
            "Variación 73:  4 1 2 3\n",
            "Variación 74:  4 1 2 5\n",
            "Variación 75:  4 1 3 2\n",
            "Variación 76:  4 1 3 5\n",
            "Variación 77:  4 1 5 2\n",
            "Variación 78:  4 1 5 3\n",
            "Variación 79:  4 2 1 3\n",
            "Variación 80:  4 2 1 5\n",
            "Variación 81:  4 2 3 1\n",
            "Variación 82:  4 2 3 5\n",
            "Variación 83:  4 2 5 1\n",
            "Variación 84:  4 2 5 3\n",
            "Variación 85:  4 3 1 2\n",
            "Variación 86:  4 3 1 5\n",
            "Variación 87:  4 3 2 1\n",
            "Variación 88:  4 3 2 5\n",
            "Variación 89:  4 3 5 1\n",
            "Variación 90:  4 3 5 2\n",
            "Variación 91:  4 5 1 2\n",
            "Variación 92:  4 5 1 3\n",
            "Variación 93:  4 5 2 1\n",
            "Variación 94:  4 5 2 3\n",
            "Variación 95:  4 5 3 1\n",
            "Variación 96:  4 5 3 2\n",
            "Variación 97:  5 1 2 3\n",
            "Variación 98:  5 1 2 4\n",
            "Variación 99:  5 1 3 2\n",
            "Variación 100:  5 1 3 4\n",
            "Variación 101:  5 1 4 2\n",
            "Variación 102:  5 1 4 3\n",
            "Variación 103:  5 2 1 3\n",
            "Variación 104:  5 2 1 4\n",
            "Variación 105:  5 2 3 1\n",
            "Variación 106:  5 2 3 4\n",
            "Variación 107:  5 2 4 1\n",
            "Variación 108:  5 2 4 3\n",
            "Variación 109:  5 3 1 2\n",
            "Variación 110:  5 3 1 4\n",
            "Variación 111:  5 3 2 1\n",
            "Variación 112:  5 3 2 4\n",
            "Variación 113:  5 3 4 1\n",
            "Variación 114:  5 3 4 2\n",
            "Variación 115:  5 4 1 2\n",
            "Variación 116:  5 4 1 3\n",
            "Variación 117:  5 4 2 1\n",
            "Variación 118:  5 4 2 3\n",
            "Variación 119:  5 4 3 1\n",
            "Variación 120:  5 4 3 2\n"
          ]
        }
      ]
    },
    {
      "cell_type": "code",
      "source": [],
      "metadata": {
        "id": "D2t2G4dKNtPg"
      },
      "execution_count": 6,
      "outputs": []
    },
    {
      "cell_type": "markdown",
      "source": [
        "## Práctica 1.4\n",
        "Invente un caso de **variaciones con repetición**.\n",
        "Se pide contestar a los mismos puntos que el caso anterior."
      ],
      "metadata": {
        "id": "gvlnqCaRMTua"
      }
    },
    {
      "cell_type": "markdown",
      "source": [
        "### Solución 1.4"
      ],
      "metadata": {
        "id": "hzvsgRDbkCy1"
      }
    },
    {
      "cell_type": "markdown",
      "source": [
        "¿Cuántos números de dos cifras se pueden formar con los dígitos: 1, 2, 3, 4, 5, 6 ?\n",
        "\n",
        "Estamos ante un caso de variaciones con repetición ya que:\n",
        "No intervienen todos los elementos. Solo tomaremos 2 o 1, de los seis números para realizar las combinaciones.\n",
        "El orden importa ya que no es lo mismo 36 que 63.\n",
        "Son con repetición ya que un número puede ser tomado dos veces para formar el dígito con dos cifras, por ejemplo 33."
      ],
      "metadata": {
        "id": "aReh_rNVyT7Y"
      }
    },
    {
      "cell_type": "code",
      "source": [
        "lista=[\"1\",\"2\",\"3\",\"4\",\"5\", \"6\" ]\n",
        " \n",
        "for i in lista:\n",
        "    for j in lista:\n",
        "        print (i,j)\n"
      ],
      "metadata": {
        "colab": {
          "base_uri": "https://localhost:8080/"
        },
        "id": "Kbowgw-EN5dF",
        "outputId": "90be7f25-3cee-45b3-9a61-bc78acb5498c"
      },
      "execution_count": 8,
      "outputs": [
        {
          "output_type": "stream",
          "name": "stdout",
          "text": [
            "1 1\n",
            "1 2\n",
            "1 3\n",
            "1 4\n",
            "1 5\n",
            "1 6\n",
            "2 1\n",
            "2 2\n",
            "2 3\n",
            "2 4\n",
            "2 5\n",
            "2 6\n",
            "3 1\n",
            "3 2\n",
            "3 3\n",
            "3 4\n",
            "3 5\n",
            "3 6\n",
            "4 1\n",
            "4 2\n",
            "4 3\n",
            "4 4\n",
            "4 5\n",
            "4 6\n",
            "5 1\n",
            "5 2\n",
            "5 3\n",
            "5 4\n",
            "5 5\n",
            "5 6\n",
            "6 1\n",
            "6 2\n",
            "6 3\n",
            "6 4\n",
            "6 5\n",
            "6 6\n"
          ]
        }
      ]
    },
    {
      "cell_type": "markdown",
      "source": [
        "## Práctica 1.5\n",
        "Invente un caso de **permutaciones sin repetición**.\n",
        "Se pide contestar a los mismos puntos que el caso anterior."
      ],
      "metadata": {
        "id": "0OCAC-I-G5F6"
      }
    },
    {
      "cell_type": "markdown",
      "source": [
        "### Solución 1.5"
      ],
      "metadata": {
        "id": "FvLcj6XXkFOV"
      }
    },
    {
      "cell_type": "markdown",
      "source": [
        "Tres jugadores del Real Madrid son suplentes; JUAN (A), PEPE (B) Y MARCOS (C), por lo que se sentarán en el banquillo ¿Cuentas maneras posibles hay de que se coloquen en las sillas de este banquillo?\n",
        "Estamos ante un caso de permutaciones sin repetición ya que:\n",
        "\n",
        "El orden importa, no es lo mismo estar en la silla nº1, que en la silla nº2 o en la 3º silla.\n",
        "Intervienen todos. Son 3 jugadores para 3 sillas, todos tienen puesto.\n",
        "No se repiten elementos. Un jugador no se puede sentar en dos sillas al mismo tiempo"
      ],
      "metadata": {
        "id": "V_siXEz7nD52"
      }
    },
    {
      "cell_type": "code",
      "source": [
        "lista = ['A', 'B', 'C']\n",
        "contador = 1\n",
        "\n",
        "for i in lista:\n",
        "    for j in lista:\n",
        "        for k in lista:\n",
        "\n",
        "                if i != j and i != k and j != k :\n",
        "                    print(f\"{contador:2d} →  {i+j+k}\")\n",
        "                    contador += 1"
      ],
      "metadata": {
        "colab": {
          "base_uri": "https://localhost:8080/"
        },
        "id": "-MeA1X1Nn0dJ",
        "outputId": "63594f23-4f85-43d7-b1b5-17d3b7e1598a"
      },
      "execution_count": 1,
      "outputs": [
        {
          "output_type": "stream",
          "name": "stdout",
          "text": [
            " 1 →  ABC\n",
            " 2 →  ACB\n",
            " 3 →  BAC\n",
            " 4 →  BCA\n",
            " 5 →  CAB\n",
            " 6 →  CBA\n"
          ]
        }
      ]
    },
    {
      "cell_type": "code",
      "source": [],
      "metadata": {
        "id": "P41Mz8OIOGk3"
      },
      "execution_count": null,
      "outputs": []
    },
    {
      "cell_type": "markdown",
      "source": [
        "## Práctica 1.6\n",
        "Invente un caso de **permutaciones con repetición**.\n",
        "Se pide contestar a los mismos puntos que el caso anterior."
      ],
      "metadata": {
        "id": "YWUXIczqLj3W"
      }
    },
    {
      "cell_type": "markdown",
      "source": [
        "### Solución 1.6"
      ],
      "metadata": {
        "id": "siAxWVVekHs6"
      }
    },
    {
      "cell_type": "code",
      "source": [
        "lista = ['A ', 'B ', 'C ', 'D ']\n",
        "\n",
        "for i in lista:\n",
        "    for j in lista:\n",
        "        for k in lista:\n",
        "            for l in lista:\n",
        "                    print(i + j + k + l)"
      ],
      "metadata": {
        "colab": {
          "base_uri": "https://localhost:8080/"
        },
        "id": "z7nWW6VRObuQ",
        "outputId": "e2019def-d303-49b5-95d1-e3b6b8370d93"
      },
      "execution_count": 8,
      "outputs": [
        {
          "output_type": "stream",
          "name": "stdout",
          "text": [
            "A A A A \n",
            "A A A B \n",
            "A A A C \n",
            "A A A D \n",
            "A A B A \n",
            "A A B B \n",
            "A A B C \n",
            "A A B D \n",
            "A A C A \n",
            "A A C B \n",
            "A A C C \n",
            "A A C D \n",
            "A A D A \n",
            "A A D B \n",
            "A A D C \n",
            "A A D D \n",
            "A B A A \n",
            "A B A B \n",
            "A B A C \n",
            "A B A D \n",
            "A B B A \n",
            "A B B B \n",
            "A B B C \n",
            "A B B D \n",
            "A B C A \n",
            "A B C B \n",
            "A B C C \n",
            "A B C D \n",
            "A B D A \n",
            "A B D B \n",
            "A B D C \n",
            "A B D D \n",
            "A C A A \n",
            "A C A B \n",
            "A C A C \n",
            "A C A D \n",
            "A C B A \n",
            "A C B B \n",
            "A C B C \n",
            "A C B D \n",
            "A C C A \n",
            "A C C B \n",
            "A C C C \n",
            "A C C D \n",
            "A C D A \n",
            "A C D B \n",
            "A C D C \n",
            "A C D D \n",
            "A D A A \n",
            "A D A B \n",
            "A D A C \n",
            "A D A D \n",
            "A D B A \n",
            "A D B B \n",
            "A D B C \n",
            "A D B D \n",
            "A D C A \n",
            "A D C B \n",
            "A D C C \n",
            "A D C D \n",
            "A D D A \n",
            "A D D B \n",
            "A D D C \n",
            "A D D D \n",
            "B A A A \n",
            "B A A B \n",
            "B A A C \n",
            "B A A D \n",
            "B A B A \n",
            "B A B B \n",
            "B A B C \n",
            "B A B D \n",
            "B A C A \n",
            "B A C B \n",
            "B A C C \n",
            "B A C D \n",
            "B A D A \n",
            "B A D B \n",
            "B A D C \n",
            "B A D D \n",
            "B B A A \n",
            "B B A B \n",
            "B B A C \n",
            "B B A D \n",
            "B B B A \n",
            "B B B B \n",
            "B B B C \n",
            "B B B D \n",
            "B B C A \n",
            "B B C B \n",
            "B B C C \n",
            "B B C D \n",
            "B B D A \n",
            "B B D B \n",
            "B B D C \n",
            "B B D D \n",
            "B C A A \n",
            "B C A B \n",
            "B C A C \n",
            "B C A D \n",
            "B C B A \n",
            "B C B B \n",
            "B C B C \n",
            "B C B D \n",
            "B C C A \n",
            "B C C B \n",
            "B C C C \n",
            "B C C D \n",
            "B C D A \n",
            "B C D B \n",
            "B C D C \n",
            "B C D D \n",
            "B D A A \n",
            "B D A B \n",
            "B D A C \n",
            "B D A D \n",
            "B D B A \n",
            "B D B B \n",
            "B D B C \n",
            "B D B D \n",
            "B D C A \n",
            "B D C B \n",
            "B D C C \n",
            "B D C D \n",
            "B D D A \n",
            "B D D B \n",
            "B D D C \n",
            "B D D D \n",
            "C A A A \n",
            "C A A B \n",
            "C A A C \n",
            "C A A D \n",
            "C A B A \n",
            "C A B B \n",
            "C A B C \n",
            "C A B D \n",
            "C A C A \n",
            "C A C B \n",
            "C A C C \n",
            "C A C D \n",
            "C A D A \n",
            "C A D B \n",
            "C A D C \n",
            "C A D D \n",
            "C B A A \n",
            "C B A B \n",
            "C B A C \n",
            "C B A D \n",
            "C B B A \n",
            "C B B B \n",
            "C B B C \n",
            "C B B D \n",
            "C B C A \n",
            "C B C B \n",
            "C B C C \n",
            "C B C D \n",
            "C B D A \n",
            "C B D B \n",
            "C B D C \n",
            "C B D D \n",
            "C C A A \n",
            "C C A B \n",
            "C C A C \n",
            "C C A D \n",
            "C C B A \n",
            "C C B B \n",
            "C C B C \n",
            "C C B D \n",
            "C C C A \n",
            "C C C B \n",
            "C C C C \n",
            "C C C D \n",
            "C C D A \n",
            "C C D B \n",
            "C C D C \n",
            "C C D D \n",
            "C D A A \n",
            "C D A B \n",
            "C D A C \n",
            "C D A D \n",
            "C D B A \n",
            "C D B B \n",
            "C D B C \n",
            "C D B D \n",
            "C D C A \n",
            "C D C B \n",
            "C D C C \n",
            "C D C D \n",
            "C D D A \n",
            "C D D B \n",
            "C D D C \n",
            "C D D D \n",
            "D A A A \n",
            "D A A B \n",
            "D A A C \n",
            "D A A D \n",
            "D A B A \n",
            "D A B B \n",
            "D A B C \n",
            "D A B D \n",
            "D A C A \n",
            "D A C B \n",
            "D A C C \n",
            "D A C D \n",
            "D A D A \n",
            "D A D B \n",
            "D A D C \n",
            "D A D D \n",
            "D B A A \n",
            "D B A B \n",
            "D B A C \n",
            "D B A D \n",
            "D B B A \n",
            "D B B B \n",
            "D B B C \n",
            "D B B D \n",
            "D B C A \n",
            "D B C B \n",
            "D B C C \n",
            "D B C D \n",
            "D B D A \n",
            "D B D B \n",
            "D B D C \n",
            "D B D D \n",
            "D C A A \n",
            "D C A B \n",
            "D C A C \n",
            "D C A D \n",
            "D C B A \n",
            "D C B B \n",
            "D C B C \n",
            "D C B D \n",
            "D C C A \n",
            "D C C B \n",
            "D C C C \n",
            "D C C D \n",
            "D C D A \n",
            "D C D B \n",
            "D C D C \n",
            "D C D D \n",
            "D D A A \n",
            "D D A B \n",
            "D D A C \n",
            "D D A D \n",
            "D D B A \n",
            "D D B B \n",
            "D D B C \n",
            "D D B D \n",
            "D D C A \n",
            "D D C B \n",
            "D D C C \n",
            "D D C D \n",
            "D D D A \n",
            "D D D B \n",
            "D D D C \n",
            "D D D D \n"
          ]
        }
      ]
    },
    {
      "cell_type": "markdown",
      "source": [
        "## Práctica 1.7\n",
        "Invente un caso de **combinaciones sin repetición**.\n",
        "Se pide contestar a los mismos puntos que el caso anterior."
      ],
      "metadata": {
        "id": "opCrIDtJGg1R"
      }
    },
    {
      "cell_type": "markdown",
      "source": [
        "### Solución 1.7"
      ],
      "metadata": {
        "id": "Zs46BsRnkJcl"
      }
    },
    {
      "cell_type": "markdown",
      "source": [
        "Una chica quiere quiere comerse dos caramelos de distinto sabor, entre los sabores que puede escoger están:\n",
        "\n",
        "Fresa (F)\n",
        "Menta (M)\n",
        "Café (C)\n",
        "Limón (L)\n",
        "frutos rojos(F)\n",
        "Melocotón (M)\n",
        "Hierbabuena (H)\n",
        "¿De cuantas maneras diferentes puede escoger dos sabores?\n",
        "\n",
        "Estamos ante un caso de combinaciones sin repetición ya que:\n",
        "El orden no importa, no es relevante el orden en el que se escogen ya que es lo mismo escoger uno de fresa y uno de menta, a escoger uno de menta y una de fresa.\n",
        "No intervienen todos. Son 7 sabores y solo 2 pueden ser los que elija.\n",
        "No se repiten elementos. La chica no puede escoger el mismo sabor dos veces."
      ],
      "metadata": {
        "id": "3Ymp9H8ppLRN"
      }
    },
    {
      "cell_type": "code",
      "source": [
        "from itertools import combinations\n",
        "\n",
        "Sabores = [\"Fresa \",\"Menta \",\"Café \",\"Limón \",\"Frutos Rojos \",\"Melocotón \",\"Hierbabuena \",]\n",
        "\n",
        "n = 0\n",
        "combi = []\n",
        "\n",
        "while n < len(Sabores):\n",
        "    for i in Sabores:\n",
        "        for g in Sabores:\n",
        "            if i != g and g + i not in combi:\n",
        "                c = i + g\n",
        "                combi.append(c)\n",
        "                n += 1\n",
        "                print (n,c)"
      ],
      "metadata": {
        "colab": {
          "base_uri": "https://localhost:8080/"
        },
        "id": "M0slCF-BqzsB",
        "outputId": "1c9577a3-8b7b-4977-e01e-33b67339d63f"
      },
      "execution_count": 2,
      "outputs": [
        {
          "output_type": "stream",
          "name": "stdout",
          "text": [
            "1 Fresa Menta \n",
            "2 Fresa Café \n",
            "3 Fresa Limón \n",
            "4 Fresa Frutos Rojos \n",
            "5 Fresa Melocotón \n",
            "6 Fresa Hierbabuena \n",
            "7 Menta Café \n",
            "8 Menta Limón \n",
            "9 Menta Frutos Rojos \n",
            "10 Menta Melocotón \n",
            "11 Menta Hierbabuena \n",
            "12 Café Limón \n",
            "13 Café Frutos Rojos \n",
            "14 Café Melocotón \n",
            "15 Café Hierbabuena \n",
            "16 Limón Frutos Rojos \n",
            "17 Limón Melocotón \n",
            "18 Limón Hierbabuena \n",
            "19 Frutos Rojos Melocotón \n",
            "20 Frutos Rojos Hierbabuena \n",
            "21 Melocotón Hierbabuena \n"
          ]
        }
      ]
    },
    {
      "cell_type": "code",
      "source": [
        "from math import factorial\n",
        "print(f\"Los casos que se obtienen son {int(factorial(7)/factorial(2)/factorial(7-2))}\")"
      ],
      "metadata": {
        "colab": {
          "base_uri": "https://localhost:8080/"
        },
        "id": "RRcPyGAarsSJ",
        "outputId": "0d6c577c-a184-4c41-acfe-34fb4561cfdc"
      },
      "execution_count": 3,
      "outputs": [
        {
          "output_type": "stream",
          "name": "stdout",
          "text": [
            "Los casos que se obtienen son 21\n"
          ]
        }
      ]
    },
    {
      "cell_type": "markdown",
      "source": [
        "## Práctica 1.8\n",
        "Invente un caso de **combinaciones con repetición**.\n",
        "Se pide contestar a los mismos puntos que el caso anterior."
      ],
      "metadata": {
        "id": "-7Y5WWlDGzAR"
      }
    },
    {
      "cell_type": "markdown",
      "source": [
        "### Solución 1.8"
      ],
      "metadata": {
        "id": "ReRULqd8kL1F"
      }
    },
    {
      "cell_type": "markdown",
      "source": [
        "El Burguer King ofrece seis ingredientes como extras a tu hamburguesa, cuya base son el pan y la salsa.\n",
        "\n",
        "Jamón\n",
        "Bacon\n",
        "Queso\n",
        "tomate\n",
        "Pepinillos\n",
        "Cebolla\n",
        "Si te permiten añadir dos extras, ¿Cuántas hamburguesas diferentes se pueden hacer? Estamos ante un caso de combinaciones con repetición ya que:\n",
        "\n",
        "El orden no importa, no es relevante el orden en el que se escogen los ingredientes, es lo mismo si escogemos primero Jamón, después cebolla, que al revés\n",
        "No intervienen todos. Son 6 ingradientes y solo 2 puedes añadir dos.\n",
        "Si se repiten elementos. La persona puede escoger dos veces el mismo ingrediente."
      ],
      "metadata": {
        "id": "uT4QVDn4sJIh"
      }
    },
    {
      "cell_type": "code",
      "source": [
        "from itertools import combinations\n",
        "\n",
        "ingredientes = [\"Jamón \",\"Bacon \",\"Queso \",\"Tomate \",\"Pepinillos \",\"Cebolla \"]\n",
        "\n",
        "n = 0\n",
        "combi = []\n",
        "\n",
        "while n < len(ingredientes):\n",
        "    for i in ingredientes:\n",
        "        for g in ingredientes:\n",
        "            if  g + i not in combi:\n",
        "                c = i + g\n",
        "                combi.append(c)\n",
        "                n += 1\n",
        "                print (n,c)"
      ],
      "metadata": {
        "colab": {
          "base_uri": "https://localhost:8080/"
        },
        "id": "A77-vGUxtxOX",
        "outputId": "e38185fa-f82b-4931-87a9-2094c0a0cdd8"
      },
      "execution_count": 4,
      "outputs": [
        {
          "output_type": "stream",
          "name": "stdout",
          "text": [
            "1 Jamón Jamón \n",
            "2 Jamón Bacon \n",
            "3 Jamón Queso \n",
            "4 Jamón Tomate \n",
            "5 Jamón Pepinillos \n",
            "6 Jamón Cebolla \n",
            "7 Bacon Bacon \n",
            "8 Bacon Queso \n",
            "9 Bacon Tomate \n",
            "10 Bacon Pepinillos \n",
            "11 Bacon Cebolla \n",
            "12 Queso Queso \n",
            "13 Queso Tomate \n",
            "14 Queso Pepinillos \n",
            "15 Queso Cebolla \n",
            "16 Tomate Tomate \n",
            "17 Tomate Pepinillos \n",
            "18 Tomate Cebolla \n",
            "19 Pepinillos Pepinillos \n",
            "20 Pepinillos Cebolla \n",
            "21 Cebolla Cebolla \n"
          ]
        }
      ]
    },
    {
      "cell_type": "code",
      "source": [],
      "metadata": {
        "colab": {
          "base_uri": "https://localhost:8080/"
        },
        "id": "4O_5czp4uoBr",
        "outputId": "0ff5de5c-97b5-4a17-e703-7ede5e62b0aa"
      },
      "execution_count": 5,
      "outputs": [
        {
          "output_type": "stream",
          "name": "stdout",
          "text": [
            "Los casos que se obtienen son 15\n"
          ]
        }
      ]
    },
    {
      "cell_type": "markdown",
      "source": [
        "## Práctica 1.9\n",
        "En el gobierno se crea una unidad de crisis formada por el presidente (P) y 4 ministros (A,B,C,D) que se reúnen sentados alrededor de una **mesa redonda**.\n",
        "\n",
        "Se pide:  \n",
        "1. Calcule de cuantas formas pueden llegar a sentarse si el ministro de defensa (D) siempre ha de estar al lado del presidente (P). Escriba la solución en una celda de Markdown utilizando fórmulas en $\\LaTeX$  explicando el caso.\n",
        "2. Cree un programa en Python para calcular el número de casos que se pueden dar al sentarse en la mesa.\n",
        "3. Cree un programa en Python para imprimir todas las posibilidades y numérelas. Por ejemplo:\n",
        "    - 1 PDABC\n",
        "    - 2 PDACB\n",
        "    - 3 PDBCD\n",
        "    - 4 PDBDC\n",
        "    - 5 PDCAB\n",
        "    - 6 PDCBA\n",
        "    - 7 DPABC\n",
        "    - 8 DPACB\n",
        "    - &#20; &#20; &#20; ... ... ...\n"
      ],
      "metadata": {
        "id": "SOzxh_YgHnDG"
      }
    },
    {
      "cell_type": "markdown",
      "source": [
        "### Solución 1.9"
      ],
      "metadata": {
        "id": "F8kV034OkQZX"
      }
    },
    {
      "cell_type": "markdown",
      "source": [
        "## Práctica 1.10\n",
        "* Realice una breve explicación teórica del **triángulo de Pascal**, o también llamado triángulo de Tartaglia, y de las fórmulas de los números combinatorios.\n",
        "* Cree un programa en Python para hacer el triángulo de Pascal."
      ],
      "metadata": {
        "id": "eiHdMOP-MkrZ"
      }
    },
    {
      "cell_type": "markdown",
      "source": [
        "## Solución 1.10\n",
        "1) En las matemáticas, el triángulo de Pascal es una representación de los\n",
        "coeficientes binomiales ordenados en forma de triángulo. Es llamado así en\n",
        "honor al filósofo y matemático francés Blaise Pascal, quien introdujo esta\n",
        "notación en 1654, en su Traité du triangle arithmétique.\n",
        "1 Si bien las\n",
        "propiedades y aplicaciones del triángulo fueron conocidas con anterioridad al\n",
        "tratado de Pascal por matemáticos indios, chinos, persas, alemanes e italianos,\n",
        "fue Pascal quien desarrolló muchas de sus aplicaciones y el primero en organizar\n",
        "la información de manera conjunta.\n",
        "2\n",
        "El triángulo de Pascal se puede generalizar a dimensiones mayores. La versión\n",
        "de tres dimensiones se llama pirámide de Pascal o tetraedro de Pascal, mientras\n",
        "que las versiones más generales son llamadas simplex de Pascal.\n",
        "\n"
      ],
      "metadata": {
        "id": "j0UT2579kTSM"
      }
    },
    {
      "cell_type": "code",
      "source": [
        "input_num = int(input(\"Enter the number of rows: \"))\n",
        "list = [] #an empty list\n",
        "for n in range(input_num):\n",
        "    list.append([])\n",
        "    list[n].append(1)\n",
        "    for m in range(1, n):\n",
        "        list[n].append(list[n - 1][m - 1] + list[n - 1][m])\n",
        "    if(input_num != 0):\n",
        "        list[n].append(1)\n",
        "for n in range(input_num):\n",
        "    print(\" \" * (input_num - n), end = \" \", sep = \" \")\n",
        "    for m in range(0, n + 1):\n",
        "        print('{0:5}'.format(list[n][m]), end = \" \", sep = \" \")\n",
        "    print()"
      ],
      "metadata": {
        "colab": {
          "base_uri": "https://localhost:8080/"
        },
        "id": "JWnPkql5Msk_",
        "outputId": "3684b841-dc5c-4ff2-c3fb-c9cb8c5b2671"
      },
      "execution_count": 3,
      "outputs": [
        {
          "output_type": "stream",
          "name": "stdout",
          "text": [
            "Enter the number of rows: 5\n",
            "          1 \n",
            "         1     1 \n",
            "        1     2     1 \n",
            "       1     3     3     1 \n",
            "      1     4     6     4     1 \n"
          ]
        }
      ]
    }
  ]
}